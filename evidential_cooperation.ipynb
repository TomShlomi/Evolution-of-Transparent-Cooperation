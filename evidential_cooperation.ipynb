{
 "cells": [
  {
   "cell_type": "code",
   "execution_count": null,
   "metadata": {},
   "outputs": [],
   "source": [
    "#Imports\n",
    "import torch\n",
    "import matplotlib.pyplot as plt\n",
    "import csv\n",
    "\n",
    "from parameter_functions import distance_mse, distance_null, distance_discrete, get_prisoners_dilemma, get_stag_hunt, get_uniform_game, get_normal_game, Net\n",
    "from evidential_cooperation import Agent, Environment, get_average_scores"
   ]
  },
  {
   "cell_type": "code",
   "execution_count": null,
   "metadata": {},
   "outputs": [],
   "source": [
    "# Get average scores over multiple runs with agents trained on evidential cooperation\n",
    "distance_f, distance_f_name = distance_mse, 'MSE'\n",
    "game_generator, game_generator_name = get_prisoners_dilemma, 'PD'\n",
    "num_rounds, num_games, death_rate, numtrials = 10000, 1, 0.0, 1000\n",
    "net_n = 2\n",
    "agents_per_net = 2\n",
    "\n",
    "def agents_generator(distance_f=distance_f, net_n=net_n, agents_per_net=agents_per_net):\n",
    "    nets = [Net(hidden_size=16) for _ in range(net_n)]\n",
    "    return [Agent(net, distance_f=distance_f) for net in nets for _ in range(agents_per_net)], nets\n",
    "\n",
    "average_scores, nets = get_average_scores(agents_generator=agents_generator, game=game_generator, death_rate=death_rate, numtrials=numtrials, num_rounds=num_rounds, num_games=num_games)\n",
    "\n",
    "# Plot and save the average scores\n",
    "plt.clf()\n",
    "plt.plot(average_scores)\n",
    "plt.savefig('graphs/{}nets {}agents {} {} {}rounds {}games {}death average.png'.format(net_n, net_n*agents_per_net, game_generator_name, distance_f_name, num_rounds, num_games, death_rate))\n",
    "plt.show()\n",
    "with open('data/{}nets {}agents {} {} {}rounds {}games {}death average.csv'.format(net_n, net_n*agents_per_net, game_generator_name, distance_f_name, num_rounds, num_games, death_rate), 'w', newline='') as file:\n",
    "    writer = csv.writer(file)\n",
    "    writer.writerow(average_scores)\n",
    "\n",
    "# Save the trained networks\n",
    "for i, net in enumerate(nets):\n",
    "    torch.save(net.state_dict(), 'models/net{}|{} {} {} {}rounds {}games {}death.pt'.format(i+1, net_n, game_generator_name, distance_f_name, num_rounds, num_games, death_rate))"
   ]
  }
 ],
 "metadata": {
  "kernelspec": {
   "display_name": "Python 3.10.8 64-bit",
   "language": "python",
   "name": "python3"
  },
  "language_info": {
   "codemirror_mode": {
    "name": "ipython",
    "version": 3
   },
   "file_extension": ".py",
   "mimetype": "text/x-python",
   "name": "python",
   "nbconvert_exporter": "python",
   "pygments_lexer": "ipython3",
   "version": "3.10.8"
  },
  "vscode": {
   "interpreter": {
    "hash": "aee8b7b246df8f9039afb4144a1f6fd8d2ca17a180786b69acc140d282b71a49"
   }
  }
 },
 "nbformat": 4,
 "nbformat_minor": 2
}
