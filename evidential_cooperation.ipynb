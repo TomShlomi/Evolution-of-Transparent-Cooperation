{
 "cells": [
  {
   "cell_type": "code",
   "execution_count": null,
   "metadata": {},
   "outputs": [],
   "source": [
    "#Imports\n",
    "import torch\n",
    "import matplotlib.pyplot as plt\n",
    "import csv\n",
    "\n",
    "from parameter_functions import distance_mse, distance_null, distance_discrete, get_prisoners_dilemma, get_stag_hunt, get_uniform_game, get_normal_game, Net\n",
    "from learn_and_evolve import Agent, Environment, get_average_scores"
   ]
  },
  {
   "cell_type": "code",
   "execution_count": null,
   "metadata": {},
   "outputs": [],
   "source": [
    "# Train evidential cooperation when there are four agents consisting of two pairs of twins in the prisoner's dilemma\n",
    "net1 = Net(hidden_size=16)\n",
    "net2 = Net(hidden_size=16)\n",
    "agents = [Agent(net1, distance_f=distance_mse), Agent(net2, distance_f=distance_mse), Agent(net1, distance_f=distance_mse), Agent(net2, distance_f=distance_mse)]\n",
    "\n",
    "# Create and run the environment\n",
    "env = Environment(agents, get_prisoners_dilemma)\n",
    "average_scores = env.run(num_rounds=10000, num_games=1, death_rate=0.0)\n",
    "\n",
    "# Plot and save the average scores\n",
    "plt.clf()\n",
    "plt.plot(average_scores)\n",
    "plt.savefig('graphs/2nets 4agents PD MSE 10000rounds 1games 0.0death.png')\n",
    "plt.show()\n",
    "with open('data/2nets 4agents PD MSE 10000rounds 1games 0.0death.csv', 'w', newline='') as file:\n",
    "    writer = csv.writer(file)\n",
    "    writer.writerow(average_scores)\n",
    "\n",
    "# Save the trained networks\n",
    "torch.save(net1.state_dict(), 'models/net1|2 PD MSE 10000rounds 1games 0.0death.pt')\n",
    "torch.save(net2.state_dict(), 'models/net2|2 PD MSE 10000rounds 1games 0.0death.pt')"
   ]
  },
  {
   "cell_type": "code",
   "execution_count": null,
   "metadata": {},
   "outputs": [],
   "source": [
    "# Train evidential cooperation when there are four agents consisting of two pairs of twins in the stag hunt\n",
    "net1 = Net(hidden_size=16)\n",
    "net2 = Net(hidden_size=16)\n",
    "agents = [Agent(net1, distance_f=distance_mse), Agent(net2, distance_f=distance_mse), Agent(net1, distance_f=distance_mse), Agent(net2, distance_f=distance_mse)]\n",
    "\n",
    "# Create and run the environment\n",
    "env = Environment(agents, get_stag_hunt)\n",
    "average_scores = env.run(num_rounds=10000, num_games=1, death_rate=0.0)\n",
    "\n",
    "# Plot and save the average scores\n",
    "plt.clf()\n",
    "plt.plot(average_scores)\n",
    "plt.savefig('graphs/2nets 4agents SH MSE 10000rounds 1games 0.0death.png')\n",
    "plt.show()\n",
    "with open('data/2nets 4agents SH MSE 10000rounds 1games 0.0death.csv', 'w', newline='') as file:\n",
    "    writer = csv.writer(file)\n",
    "    writer.writerow(average_scores)\n",
    "\n",
    "# Save the trained networks\n",
    "torch.save(net1.state_dict(), 'models/net1|2 SH MSE 10000rounds 1games 0.0death.pt')\n",
    "torch.save(net2.state_dict(), 'models/net2|2 SH MSE 10000rounds 1games 0.0death.pt')"
   ]
  },
  {
   "cell_type": "code",
   "execution_count": null,
   "metadata": {},
   "outputs": [],
   "source": [
    "# Get average scores over multiple runs for four agents consisting of two pairs of twins in the prisoner's dilemma\n",
    "def agents_generator():\n",
    "    net1 = Net(hidden_size=16)\n",
    "    net2 = Net(hidden_size=16)\n",
    "    return [Agent(net1, distance_f=distance_mse), Agent(net2, distance_f=distance_mse), Agent(net1, distance_f=distance_mse), Agent(net2, distance_f=distance_mse)]\n",
    "\n",
    "average_scores = get_average_scores(agents_generator=agents_generator, game=get_prisoners_dilemma, death_rate=0.0, numtrials=1000, num_rounds=1000, num_games=1)\n",
    "\n",
    "# Plot and save the average average scores\n",
    "plt.clf()\n",
    "plt.plot(average_scores)\n",
    "plt.savefig('graphs/2nets 4agents PD MSE 1000rounds 1games 0.0death average.png')\n",
    "plt.show()\n",
    "with open('data/2nets 4agents PD MSE 1000rounds 1games 0.0death average.csv', 'w', newline='') as file:\n",
    "    writer = csv.writer(file)\n",
    "    writer.writerow(average_scores)"
   ]
  }
 ],
 "metadata": {
  "kernelspec": {
   "display_name": "Python 3.10.8 64-bit",
   "language": "python",
   "name": "python3"
  },
  "language_info": {
   "codemirror_mode": {
    "name": "ipython",
    "version": 3
   },
   "file_extension": ".py",
   "mimetype": "text/x-python",
   "name": "python",
   "nbconvert_exporter": "python",
   "pygments_lexer": "ipython3",
   "version": "3.10.8"
  },
  "vscode": {
   "interpreter": {
    "hash": "aee8b7b246df8f9039afb4144a1f6fd8d2ca17a180786b69acc140d282b71a49"
   }
  }
 },
 "nbformat": 4,
 "nbformat_minor": 2
}
