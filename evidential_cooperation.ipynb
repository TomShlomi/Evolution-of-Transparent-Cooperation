{
 "cells": [
  {
   "cell_type": "code",
   "execution_count": null,
   "metadata": {},
   "outputs": [],
   "source": [
    "#Imports\n",
    "import numpy as np\n",
    "import torch\n",
    "import matplotlib.pyplot as plt\n",
    "import csv\n",
    "import cProfile\n",
    "import pstats\n",
    "\n",
    "from parameter_functions import distance_mse, distance_null, distance_discrete, get_prisoners_dilemma, get_stag_hunt, get_uniform_game, get_normal_game, Net\n",
    "from evidential_cooperation import Agent, Environment, get_average_scores, test_net_cooperativity\n",
    "from agent_generation import generate_twins, diverging_twins"
   ]
  },
  {
   "cell_type": "code",
   "execution_count": null,
   "metadata": {},
   "outputs": [],
   "source": [
    "# Get average scores over multiple runs with agents trained on evidential cooperation\n",
    "distance_f, distance_f_name = distance_mse, 'MSE'\n",
    "game_generator, game_generator_name = get_prisoners_dilemma, 'PD'\n",
    "agents_generator, agents_generator_name = diverging_twins, 'DIVERGING'\n",
    "num_rounds, num_games, num_trials = 10000, 1, 1 # runtime is proportional to num_rounds * num_games * num_trials\n",
    "death_rate = 0.0\n",
    "net_n, agents_per_net = 3, 2 # number agents = net_n * agents_per_net\n",
    "random_inputs = 5\n",
    "lr = 0.001\n",
    "\n",
    "average_scores, nets = get_average_scores(agents_generator=lambda: agents_generator(distance_f=distance_f, net_n=net_n, agents_per_net=agents_per_net, random_inputs=random_inputs, lr=lr), game_generator=game_generator, death_rate=death_rate, num_trials=num_trials, num_rounds=num_rounds, num_games=num_games, random_inputs=random_inputs, verbose=True)\n",
    "\n",
    "# Plot and save the average scores\n",
    "plt.clf()\n",
    "plt.plot(average_scores)\n",
    "plt.savefig('graphs/{}nets {}agents {} {} {} {}rounds {}games {}death {}lr {}random_inputs {}trials.png'.format(net_n, net_n*agents_per_net, game_generator_name, distance_f_name, agents_generator_name, num_rounds, num_games, death_rate, lr, random_inputs, num_trials))\n",
    "plt.show()\n",
    "with open('graphs/{}nets {}agents {} {} {} {}rounds {}games {}death {}lr {}random_inputs {}trials.csv'.format(net_n, net_n*agents_per_net, game_generator_name, distance_f_name, agents_generator_name, num_rounds, num_games, death_rate, lr, random_inputs, num_trials), 'w', newline='') as file:\n",
    "    writer = csv.writer(file)\n",
    "    writer.writerow(average_scores)\n",
    "\n",
    "# Save the trained networks\n",
    "for i, net in enumerate(nets):\n",
    "    torch.save(net.state_dict(), 'models/net{} {}nets {}agents {} {} {} {}rounds {}games {}death {}lr {}random_inputs'.format(i, net_n, net_n*agents_per_net, game_generator_name, distance_f_name, agents_generator_name, num_rounds, num_games, death_rate, lr, random_inputs, num_trials))\n",
    "\n",
    "print('Average score: {}'.format(sum(average_scores)/num_rounds))"
   ]
  },
  {
   "cell_type": "code",
   "execution_count": null,
   "metadata": {},
   "outputs": [],
   "source": [
    "#Load nets\n",
    "cooperativities = test_net_cooperativity(nets=nets, game_generator=get_prisoners_dilemma, random_inputs=random_inputs, randomize=False)\n",
    "for i, cooperativity in enumerate(cooperativities):\n",
    "    # Convert to numpy array\n",
    "    cooperativity = np.array([c.detach().numpy() for c in cooperativity])\n",
    "    #print('Cooperativity: {}'.format(cooperativity), type(cooperativity))\n",
    "    # Plot the cooperativity and defectivity\n",
    "    plt.clf()\n",
    "    plt.plot(np.linspace(0, 2, 100), cooperativity[:, 0], label='Cooperativity')\n",
    "    plt.plot(np.linspace(0, 2, 100), cooperativity[:, 1], label='Defectivity')\n",
    "    plt.legend()\n",
    "    plt.show()\n",
    "    # Save the plots\n",
    "    plt.savefig('graphs/{}nets {}agents {} {} {} {}rounds {}games {}death {}lr {}random_inputs cooperativity {}.png'.format(net_n, net_n*agents_per_net, game_generator_name, distance_f_name, agents_generator_name, num_rounds, num_games, death_rate, lr, random_inputs, i))\n"
   ]
  },
  {
   "cell_type": "code",
   "execution_count": null,
   "metadata": {},
   "outputs": [],
   "source": [
    "type(average_scores)"
   ]
  }
 ],
 "metadata": {
  "kernelspec": {
   "display_name": "Python 3.10.8 64-bit",
   "language": "python",
   "name": "python3"
  },
  "language_info": {
   "codemirror_mode": {
    "name": "ipython",
    "version": 3
   },
   "file_extension": ".py",
   "mimetype": "text/x-python",
   "name": "python",
   "nbconvert_exporter": "python",
   "pygments_lexer": "ipython3",
   "version": "3.10.8"
  },
  "vscode": {
   "interpreter": {
    "hash": "aee8b7b246df8f9039afb4144a1f6fd8d2ca17a180786b69acc140d282b71a49"
   }
  }
 },
 "nbformat": 4,
 "nbformat_minor": 2
}
