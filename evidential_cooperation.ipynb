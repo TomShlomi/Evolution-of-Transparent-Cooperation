{
 "cells": [
  {
   "cell_type": "code",
   "execution_count": null,
   "metadata": {},
   "outputs": [],
   "source": [
    "#Imports\n",
    "import torch\n",
    "\n",
    "from parameter_functions import distance_mse, distance_null, distance_discrete, get_prisoners_dilemma, get_stag_hunt, get_uniform_game, get_normal_game, Net\n",
    "from learn_and_evolve import Agent, Environment"
   ]
  },
  {
   "cell_type": "code",
   "execution_count": null,
   "metadata": {},
   "outputs": [],
   "source": [
    "# Train evidential cooperation when there are four agents consisting of two pairs of twins\n",
    "net1 = Net(hidden_size=16)\n",
    "net2 = Net(hidden_size=16)\n",
    "agents = [Agent(net1, distance_f=distance_mse), Agent(net2, distance_f=distance_mse), Agent(net1, distance_f=distance_mse), Agent(net2, distance_f=distance_mse)]\n",
    "\n",
    "# Create and run the environment\n",
    "env = Environment(agents, get_prisoners_dilemma)\n",
    "env.run(num_rounds=10000, num_games=1, death_rate=0.0, print_average_score=True)\n",
    "\n",
    "# Save the trained networks\n",
    "torch.save(net1.state_dict(), 'models/net1|2 PD MSE 10000rounds 1games 0.0death.pt')\n",
    "torch.save(net2.state_dict(), 'models/net2|2 PD MSE 10000rounds 1games 0.0death.pt')"
   ]
  }
 ],
 "metadata": {
  "kernelspec": {
   "display_name": "Python 3.10.8 64-bit",
   "language": "python",
   "name": "python3"
  },
  "language_info": {
   "codemirror_mode": {
    "name": "ipython",
    "version": 3
   },
   "file_extension": ".py",
   "mimetype": "text/x-python",
   "name": "python",
   "nbconvert_exporter": "python",
   "pygments_lexer": "ipython3",
   "version": "3.10.8"
  },
  "vscode": {
   "interpreter": {
    "hash": "aee8b7b246df8f9039afb4144a1f6fd8d2ca17a180786b69acc140d282b71a49"
   }
  }
 },
 "nbformat": 4,
 "nbformat_minor": 2
}
